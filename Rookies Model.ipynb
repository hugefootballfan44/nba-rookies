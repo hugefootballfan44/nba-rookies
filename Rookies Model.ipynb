{
 "cells": [
  {
   "cell_type": "markdown",
   "id": "4142db59",
   "metadata": {},
   "source": [
    "# From Rookies to the All-NBA team\n",
    "# Step 2: Modeling"
   ]
  },
  {
   "cell_type": "markdown",
   "id": "e6ea9f47",
   "metadata": {},
   "source": [
    "## Importing Libraries, Packages and Modules\n"
   ]
  },
  {
   "cell_type": "code",
   "execution_count": 1,
   "id": "4f925216",
   "metadata": {},
   "outputs": [],
   "source": [
    "import pandas as pd\n",
    "from matplotlib import pyplot as plt\n",
    "import numpy as np\n",
    "import seaborn as sns\n",
    "from sklearn.datasets import make_blobs\n",
    "from sklearn.model_selection import train_test_split\n",
    "from sklearn import preprocessing\n",
    "from sklearn.ensemble import RandomForestClassifier\n",
    "from sklearn import preprocessing\n",
    "from sklearn.model_selection import cross_val_score\n",
    "from sklearn import metrics\n",
    "from sklearn.metrics import classification_report, confusion_matrix\n",
    "from sklearn.preprocessing import OrdinalEncoder\n",
    "from sklearn.ensemble import RandomForestRegressor\n",
    "from sklearn.model_selection import RandomizedSearchCV\n",
    "from sklearn.model_selection import GridSearchCV"
   ]
  },
  {
   "cell_type": "markdown",
   "id": "6136a67b",
   "metadata": {},
   "source": [
    "## Loading Data"
   ]
  },
  {
   "cell_type": "code",
   "execution_count": 2,
   "id": "dd4cb33a",
   "metadata": {},
   "outputs": [
    {
     "data": {
      "text/html": [
       "<div>\n",
       "<style scoped>\n",
       "    .dataframe tbody tr th:only-of-type {\n",
       "        vertical-align: middle;\n",
       "    }\n",
       "\n",
       "    .dataframe tbody tr th {\n",
       "        vertical-align: top;\n",
       "    }\n",
       "\n",
       "    .dataframe thead th {\n",
       "        text-align: right;\n",
       "    }\n",
       "</style>\n",
       "<table border=\"1\" class=\"dataframe\">\n",
       "  <thead>\n",
       "    <tr style=\"text-align: right;\">\n",
       "      <th></th>\n",
       "      <th>Unnamed: 0</th>\n",
       "      <th>seas_id</th>\n",
       "      <th>season</th>\n",
       "      <th>player_id</th>\n",
       "      <th>player</th>\n",
       "      <th>pos</th>\n",
       "      <th>age</th>\n",
       "      <th>experience</th>\n",
       "      <th>lg</th>\n",
       "      <th>tm</th>\n",
       "      <th>...</th>\n",
       "      <th>usg_percent</th>\n",
       "      <th>ows</th>\n",
       "      <th>dws</th>\n",
       "      <th>ws</th>\n",
       "      <th>ws_48</th>\n",
       "      <th>obpm</th>\n",
       "      <th>dbpm</th>\n",
       "      <th>bpm</th>\n",
       "      <th>vorp</th>\n",
       "      <th>all_nba</th>\n",
       "    </tr>\n",
       "  </thead>\n",
       "  <tbody>\n",
       "    <tr>\n",
       "      <th>0</th>\n",
       "      <td>0</td>\n",
       "      <td>31143</td>\n",
       "      <td>2024</td>\n",
       "      <td>5109</td>\n",
       "      <td>Adam Flagler</td>\n",
       "      <td>SG</td>\n",
       "      <td>24.0</td>\n",
       "      <td>1</td>\n",
       "      <td>NBA</td>\n",
       "      <td>OKC</td>\n",
       "      <td>...</td>\n",
       "      <td>21.7</td>\n",
       "      <td>0.0</td>\n",
       "      <td>0.0</td>\n",
       "      <td>0.0</td>\n",
       "      <td>-0.159</td>\n",
       "      <td>-6.7</td>\n",
       "      <td>-3.9</td>\n",
       "      <td>-10.6</td>\n",
       "      <td>0.0</td>\n",
       "      <td>False</td>\n",
       "    </tr>\n",
       "    <tr>\n",
       "      <th>1</th>\n",
       "      <td>1</td>\n",
       "      <td>31144</td>\n",
       "      <td>2024</td>\n",
       "      <td>5110</td>\n",
       "      <td>Adama Sanogo</td>\n",
       "      <td>PF</td>\n",
       "      <td>21.0</td>\n",
       "      <td>1</td>\n",
       "      <td>NBA</td>\n",
       "      <td>CHI</td>\n",
       "      <td>...</td>\n",
       "      <td>24.8</td>\n",
       "      <td>0.1</td>\n",
       "      <td>0.1</td>\n",
       "      <td>0.2</td>\n",
       "      <td>0.133</td>\n",
       "      <td>-0.4</td>\n",
       "      <td>-6.3</td>\n",
       "      <td>-6.7</td>\n",
       "      <td>-0.1</td>\n",
       "      <td>False</td>\n",
       "    </tr>\n",
       "    <tr>\n",
       "      <th>2</th>\n",
       "      <td>2</td>\n",
       "      <td>31154</td>\n",
       "      <td>2024</td>\n",
       "      <td>5111</td>\n",
       "      <td>Alex Fudge</td>\n",
       "      <td>SF</td>\n",
       "      <td>20.0</td>\n",
       "      <td>1</td>\n",
       "      <td>NBA</td>\n",
       "      <td>TOT</td>\n",
       "      <td>...</td>\n",
       "      <td>19.2</td>\n",
       "      <td>0.0</td>\n",
       "      <td>0.0</td>\n",
       "      <td>0.0</td>\n",
       "      <td>-0.007</td>\n",
       "      <td>-3.7</td>\n",
       "      <td>-1.5</td>\n",
       "      <td>-5.2</td>\n",
       "      <td>0.0</td>\n",
       "      <td>False</td>\n",
       "    </tr>\n",
       "    <tr>\n",
       "      <th>3</th>\n",
       "      <td>3</td>\n",
       "      <td>31160</td>\n",
       "      <td>2024</td>\n",
       "      <td>5112</td>\n",
       "      <td>Amari Bailey</td>\n",
       "      <td>PG</td>\n",
       "      <td>19.0</td>\n",
       "      <td>1</td>\n",
       "      <td>NBA</td>\n",
       "      <td>CHO</td>\n",
       "      <td>...</td>\n",
       "      <td>21.1</td>\n",
       "      <td>-0.1</td>\n",
       "      <td>0.0</td>\n",
       "      <td>-0.1</td>\n",
       "      <td>-0.044</td>\n",
       "      <td>-5.2</td>\n",
       "      <td>-3.1</td>\n",
       "      <td>-8.3</td>\n",
       "      <td>-0.1</td>\n",
       "      <td>False</td>\n",
       "    </tr>\n",
       "    <tr>\n",
       "      <th>4</th>\n",
       "      <td>4</td>\n",
       "      <td>31161</td>\n",
       "      <td>2024</td>\n",
       "      <td>5113</td>\n",
       "      <td>Amen Thompson</td>\n",
       "      <td>SF</td>\n",
       "      <td>21.0</td>\n",
       "      <td>1</td>\n",
       "      <td>NBA</td>\n",
       "      <td>HOU</td>\n",
       "      <td>...</td>\n",
       "      <td>18.5</td>\n",
       "      <td>1.9</td>\n",
       "      <td>2.4</td>\n",
       "      <td>4.3</td>\n",
       "      <td>0.149</td>\n",
       "      <td>-0.1</td>\n",
       "      <td>1.9</td>\n",
       "      <td>1.8</td>\n",
       "      <td>1.3</td>\n",
       "      <td>False</td>\n",
       "    </tr>\n",
       "    <tr>\n",
       "      <th>...</th>\n",
       "      <td>...</td>\n",
       "      <td>...</td>\n",
       "      <td>...</td>\n",
       "      <td>...</td>\n",
       "      <td>...</td>\n",
       "      <td>...</td>\n",
       "      <td>...</td>\n",
       "      <td>...</td>\n",
       "      <td>...</td>\n",
       "      <td>...</td>\n",
       "      <td>...</td>\n",
       "      <td>...</td>\n",
       "      <td>...</td>\n",
       "      <td>...</td>\n",
       "      <td>...</td>\n",
       "      <td>...</td>\n",
       "      <td>...</td>\n",
       "      <td>...</td>\n",
       "      <td>...</td>\n",
       "      <td>...</td>\n",
       "      <td>...</td>\n",
       "    </tr>\n",
       "    <tr>\n",
       "      <th>2803</th>\n",
       "      <td>2803</td>\n",
       "      <td>11784</td>\n",
       "      <td>1989</td>\n",
       "      <td>2474</td>\n",
       "      <td>Vernon Maxwell</td>\n",
       "      <td>SG</td>\n",
       "      <td>23.0</td>\n",
       "      <td>1</td>\n",
       "      <td>NBA</td>\n",
       "      <td>SAS</td>\n",
       "      <td>...</td>\n",
       "      <td>20.9</td>\n",
       "      <td>0.1</td>\n",
       "      <td>1.4</td>\n",
       "      <td>1.5</td>\n",
       "      <td>0.035</td>\n",
       "      <td>-1.3</td>\n",
       "      <td>-1.2</td>\n",
       "      <td>-2.5</td>\n",
       "      <td>-0.3</td>\n",
       "      <td>False</td>\n",
       "    </tr>\n",
       "    <tr>\n",
       "      <th>2804</th>\n",
       "      <td>2804</td>\n",
       "      <td>11786</td>\n",
       "      <td>1989</td>\n",
       "      <td>2475</td>\n",
       "      <td>Vinny Del Negro</td>\n",
       "      <td>SG</td>\n",
       "      <td>22.0</td>\n",
       "      <td>1</td>\n",
       "      <td>NBA</td>\n",
       "      <td>SAC</td>\n",
       "      <td>...</td>\n",
       "      <td>16.4</td>\n",
       "      <td>1.5</td>\n",
       "      <td>1.0</td>\n",
       "      <td>2.5</td>\n",
       "      <td>0.077</td>\n",
       "      <td>-1.7</td>\n",
       "      <td>0.5</td>\n",
       "      <td>-1.2</td>\n",
       "      <td>0.3</td>\n",
       "      <td>False</td>\n",
       "    </tr>\n",
       "    <tr>\n",
       "      <th>2805</th>\n",
       "      <td>2805</td>\n",
       "      <td>11795</td>\n",
       "      <td>1989</td>\n",
       "      <td>2476</td>\n",
       "      <td>Wayne Engelstad</td>\n",
       "      <td>PF</td>\n",
       "      <td>23.0</td>\n",
       "      <td>1</td>\n",
       "      <td>NBA</td>\n",
       "      <td>DEN</td>\n",
       "      <td>...</td>\n",
       "      <td>27.9</td>\n",
       "      <td>0.0</td>\n",
       "      <td>0.1</td>\n",
       "      <td>0.0</td>\n",
       "      <td>0.031</td>\n",
       "      <td>-5.0</td>\n",
       "      <td>-1.7</td>\n",
       "      <td>-6.7</td>\n",
       "      <td>-0.1</td>\n",
       "      <td>False</td>\n",
       "    </tr>\n",
       "    <tr>\n",
       "      <th>2806</th>\n",
       "      <td>2806</td>\n",
       "      <td>11796</td>\n",
       "      <td>1989</td>\n",
       "      <td>2477</td>\n",
       "      <td>Will Perdue</td>\n",
       "      <td>C</td>\n",
       "      <td>23.0</td>\n",
       "      <td>1</td>\n",
       "      <td>NBA</td>\n",
       "      <td>CHI</td>\n",
       "      <td>...</td>\n",
       "      <td>21.0</td>\n",
       "      <td>-0.3</td>\n",
       "      <td>0.2</td>\n",
       "      <td>-0.1</td>\n",
       "      <td>-0.021</td>\n",
       "      <td>-6.7</td>\n",
       "      <td>-1.6</td>\n",
       "      <td>-8.3</td>\n",
       "      <td>-0.3</td>\n",
       "      <td>False</td>\n",
       "    </tr>\n",
       "    <tr>\n",
       "      <th>2807</th>\n",
       "      <td>2807</td>\n",
       "      <td>11797</td>\n",
       "      <td>1989</td>\n",
       "      <td>2478</td>\n",
       "      <td>Willie Anderson</td>\n",
       "      <td>SF</td>\n",
       "      <td>22.0</td>\n",
       "      <td>1</td>\n",
       "      <td>NBA</td>\n",
       "      <td>SAS</td>\n",
       "      <td>...</td>\n",
       "      <td>23.8</td>\n",
       "      <td>2.1</td>\n",
       "      <td>2.8</td>\n",
       "      <td>4.9</td>\n",
       "      <td>0.085</td>\n",
       "      <td>0.8</td>\n",
       "      <td>0.4</td>\n",
       "      <td>1.3</td>\n",
       "      <td>2.3</td>\n",
       "      <td>False</td>\n",
       "    </tr>\n",
       "  </tbody>\n",
       "</table>\n",
       "<p>2808 rows × 60 columns</p>\n",
       "</div>"
      ],
      "text/plain": [
       "      Unnamed: 0  seas_id  season  player_id           player pos   age  \\\n",
       "0              0    31143    2024       5109     Adam Flagler  SG  24.0   \n",
       "1              1    31144    2024       5110     Adama Sanogo  PF  21.0   \n",
       "2              2    31154    2024       5111       Alex Fudge  SF  20.0   \n",
       "3              3    31160    2024       5112     Amari Bailey  PG  19.0   \n",
       "4              4    31161    2024       5113    Amen Thompson  SF  21.0   \n",
       "...          ...      ...     ...        ...              ...  ..   ...   \n",
       "2803        2803    11784    1989       2474   Vernon Maxwell  SG  23.0   \n",
       "2804        2804    11786    1989       2475  Vinny Del Negro  SG  22.0   \n",
       "2805        2805    11795    1989       2476  Wayne Engelstad  PF  23.0   \n",
       "2806        2806    11796    1989       2477      Will Perdue   C  23.0   \n",
       "2807        2807    11797    1989       2478  Willie Anderson  SF  22.0   \n",
       "\n",
       "      experience   lg   tm  ...  usg_percent  ows  dws   ws  ws_48  obpm  \\\n",
       "0              1  NBA  OKC  ...         21.7  0.0  0.0  0.0 -0.159  -6.7   \n",
       "1              1  NBA  CHI  ...         24.8  0.1  0.1  0.2  0.133  -0.4   \n",
       "2              1  NBA  TOT  ...         19.2  0.0  0.0  0.0 -0.007  -3.7   \n",
       "3              1  NBA  CHO  ...         21.1 -0.1  0.0 -0.1 -0.044  -5.2   \n",
       "4              1  NBA  HOU  ...         18.5  1.9  2.4  4.3  0.149  -0.1   \n",
       "...          ...  ...  ...  ...          ...  ...  ...  ...    ...   ...   \n",
       "2803           1  NBA  SAS  ...         20.9  0.1  1.4  1.5  0.035  -1.3   \n",
       "2804           1  NBA  SAC  ...         16.4  1.5  1.0  2.5  0.077  -1.7   \n",
       "2805           1  NBA  DEN  ...         27.9  0.0  0.1  0.0  0.031  -5.0   \n",
       "2806           1  NBA  CHI  ...         21.0 -0.3  0.2 -0.1 -0.021  -6.7   \n",
       "2807           1  NBA  SAS  ...         23.8  2.1  2.8  4.9  0.085   0.8   \n",
       "\n",
       "      dbpm   bpm  vorp  all_nba  \n",
       "0     -3.9 -10.6   0.0    False  \n",
       "1     -6.3  -6.7  -0.1    False  \n",
       "2     -1.5  -5.2   0.0    False  \n",
       "3     -3.1  -8.3  -0.1    False  \n",
       "4      1.9   1.8   1.3    False  \n",
       "...    ...   ...   ...      ...  \n",
       "2803  -1.2  -2.5  -0.3    False  \n",
       "2804   0.5  -1.2   0.3    False  \n",
       "2805  -1.7  -6.7  -0.1    False  \n",
       "2806  -1.6  -8.3  -0.3    False  \n",
       "2807   0.4   1.3   2.3    False  \n",
       "\n",
       "[2808 rows x 60 columns]"
      ]
     },
     "execution_count": 2,
     "metadata": {},
     "output_type": "execute_result"
    }
   ],
   "source": [
    "rookies = pd.read_csv(\"rookie.csv\")\n",
    "rookies"
   ]
  },
  {
   "cell_type": "markdown",
   "id": "fd15996c",
   "metadata": {},
   "source": [
    "## Preparing for Modeling\n",
    "\n",
    "In order to properly use Random Forest models to project which rookies will reach an All-NBA team, we will need to encode categorical variables as numeric variables. We do this using an ordinal encoder.\n",
    "\n",
    "The three categorical variables we will need to encode ordinally are 'nba_tm', 'defense_tm', and 'rookie_tm'. Let's first print the counts of each category in these variables. This will allow us to check the encoding is correct afterward."
   ]
  },
  {
   "cell_type": "code",
   "execution_count": 3,
   "id": "90c090a0",
   "metadata": {},
   "outputs": [
    {
     "name": "stdout",
     "output_type": "stream",
     "text": [
      "nba_tm\n",
      "Not Selected    2401\n",
      "1st                1\n",
      "3rd                1\n",
      "Name: count, dtype: int64\n",
      "defense_tm\n",
      "Not Selected    2401\n",
      "2nd                2\n",
      "Name: count, dtype: int64\n",
      "rookie_tm\n",
      "Not Selected    2076\n",
      "2nd              164\n",
      "1st              163\n",
      "Name: count, dtype: int64\n"
     ]
    }
   ],
   "source": [
    "print(rookies[rookies['season'] < 2021]['nba_tm'].value_counts())\n",
    "print(rookies[rookies['season'] < 2021]['defense_tm'].value_counts())\n",
    "print(rookies[rookies['season'] < 2021]['rookie_tm'].value_counts())"
   ]
  },
  {
   "cell_type": "code",
   "execution_count": 4,
   "id": "9f021f9c",
   "metadata": {},
   "outputs": [],
   "source": [
    "enc = OrdinalEncoder()\n",
    "rookies[['rookie_tm', 'defense_tm', 'nba_tm']] = enc.fit_transform(rookies[['rookie_tm', 'defense_tm', 'nba_tm']])"
   ]
  },
  {
   "cell_type": "markdown",
   "id": "f3d4e27d",
   "metadata": {},
   "source": [
    "Here we define a function prep_rookies_data(). This will remove all players from the data set whose rookie seasons were before 2020-2021. This is to ensure the players in the sample had at least five seasons to reach an All-NBA team.\n",
    "\n",
    "The function also drops unnecessary columns; moreover, it produces X, a dataframe with the features to be used in the models, and y, a series with the labels."
   ]
  },
  {
   "cell_type": "code",
   "execution_count": 5,
   "id": "b31fc039",
   "metadata": {},
   "outputs": [],
   "source": [
    "def prep_rookies_data(data):\n",
    "    \n",
    "    df = data.copy()\n",
    "    \n",
    "    df=df[df['season'] < 2021]\n",
    "    \n",
    "    df=df.drop(['Unnamed: 0','seas_id','season','player_id', 'player',\n",
    "                'pos', 'experience', 'lg', 'tm'],axis=1)\n",
    "        \n",
    "    X = df.drop(['all_nba'], axis = 1)\n",
    "    y = df[\"all_nba\"]\n",
    "\n",
    "    return (X, y)"
   ]
  },
  {
   "cell_type": "markdown",
   "id": "f06336b7",
   "metadata": {},
   "source": [
    "Now, we must split the sample into training and testing sets. The test set will have 20 percent of the observations while the training set will contain the remaining 80 percent.\n",
    "\n",
    "Subsequently, prep_rookies_data() is used to split the training and testing sets into their features and labels."
   ]
  },
  {
   "cell_type": "code",
   "execution_count": 6,
   "id": "9c0035f4",
   "metadata": {},
   "outputs": [],
   "source": [
    "train, test = train_test_split(rookies, test_size = 0.2, random_state = 1)\n",
    "\n",
    "X_train, y_train = prep_rookies_data(train)\n",
    "X_test, y_test = prep_rookies_data(test)"
   ]
  },
  {
   "cell_type": "markdown",
   "id": "3faaddb2",
   "metadata": {},
   "source": [
    "To check the categorical variables got ordinally encoded properly, we can print the value counts for each appropriate variable in the testing and training feature sets. As we can see, the counts add up correctly."
   ]
  },
  {
   "cell_type": "code",
   "execution_count": 7,
   "id": "00dd2278",
   "metadata": {},
   "outputs": [
    {
     "name": "stdout",
     "output_type": "stream",
     "text": [
      "nba_tm\n",
      "2.0    483\n",
      "Name: count, dtype: int64\n",
      "nba_tm\n",
      "2.0    1918\n",
      "0.0       1\n",
      "1.0       1\n",
      "Name: count, dtype: int64\n",
      "defense_tm\n",
      "2.0    483\n",
      "Name: count, dtype: int64\n",
      "defense_tm\n",
      "2.0    1918\n",
      "1.0       2\n",
      "Name: count, dtype: int64\n",
      "rookie_tm\n",
      "2.0    408\n",
      "1.0     40\n",
      "0.0     35\n",
      "Name: count, dtype: int64\n",
      "rookie_tm\n",
      "2.0    1668\n",
      "0.0     128\n",
      "1.0     124\n",
      "Name: count, dtype: int64\n"
     ]
    }
   ],
   "source": [
    "print(X_test['nba_tm'].value_counts())\n",
    "print(X_train['nba_tm'].value_counts())\n",
    "print(X_test['defense_tm'].value_counts())\n",
    "print(X_train['defense_tm'].value_counts())\n",
    "print(X_test['rookie_tm'].value_counts())\n",
    "print(X_train['rookie_tm'].value_counts())"
   ]
  },
  {
   "cell_type": "markdown",
   "id": "03ce2080",
   "metadata": {},
   "source": [
    "To prepare further for modeling, we convert the datasets to numpy arrays. We also print their shapes to ensure the process has produced the correct results."
   ]
  },
  {
   "cell_type": "code",
   "execution_count": 9,
   "id": "d41b6457",
   "metadata": {},
   "outputs": [],
   "source": [
    "X_train = np.array(X_train)\n",
    "y_train = np.array(y_train)\n",
    "X_test = np.array(X_test)\n",
    "y_test = np.array(y_test)"
   ]
  },
  {
   "cell_type": "code",
   "execution_count": 10,
   "id": "2639f405",
   "metadata": {},
   "outputs": [
    {
     "name": "stdout",
     "output_type": "stream",
     "text": [
      "X_train Shape: (1920, 50)\n",
      "y_train Shape: (1920,)\n",
      "X_test Shape: (483, 50)\n",
      "y_test Shape: (483,)\n"
     ]
    }
   ],
   "source": [
    "print('X_train Shape:', X_train.shape)\n",
    "print('y_train Shape:', y_train.shape)\n",
    "print('X_test Shape:', X_test.shape)\n",
    "print('y_test Shape:', y_test.shape)"
   ]
  },
  {
   "cell_type": "markdown",
   "id": "87e45921",
   "metadata": {},
   "source": [
    "## First Model: Random Forest Classifier\n",
    "\n",
    "To produce a random forest classifier model to project which rookies will become All-NBA players, we first determine the best number of estimators to include. For this, we loop through values between 1 and 100, using cross-validation to ascertain which value provides the moost predictive value."
   ]
  },
  {
   "cell_type": "code",
   "execution_count": 11,
   "id": "bf085b15",
   "metadata": {},
   "outputs": [
    {
     "data": {
      "text/plain": [
       "(29, 0.9619791666666666)"
      ]
     },
     "execution_count": 11,
     "metadata": {},
     "output_type": "execute_result"
    }
   ],
   "source": [
    "N = 100\n",
    "scores = np.zeros(N)\n",
    "best_score = -np.inf\n",
    "\n",
    "for n in range(1, N + 1):\n",
    "    m = RandomForestClassifier(n_estimators = n)\n",
    "    scores[n - 1] = cross_val_score(m, X_train, y_train, cv = 5).mean()\n",
    "    if scores[n - 1] > best_score:\n",
    "        best_score = scores[n - 1]\n",
    "        best_n = n\n",
    "        \n",
    "best_n, best_score"
   ]
  },
  {
   "cell_type": "markdown",
   "id": "6aa8fd93",
   "metadata": {},
   "source": [
    "The optimal number of estimators is 29. Let's construct a random forest classifier model with this parameter."
   ]
  },
  {
   "cell_type": "code",
   "execution_count": 12,
   "id": "729021ac",
   "metadata": {},
   "outputs": [
    {
     "data": {
      "text/plain": [
       "0.94824016563147"
      ]
     },
     "execution_count": 12,
     "metadata": {},
     "output_type": "execute_result"
    }
   ],
   "source": [
    "m = RandomForestClassifier(n_estimators = best_n, random_state = 1)\n",
    "m.fit(X_train, y_train)\n",
    "m.score(X_test, y_test)"
   ]
  },
  {
   "cell_type": "markdown",
   "id": "1667b327",
   "metadata": {},
   "source": [
    "This model is 94.8% accurate on the training data. While this sounds quite good, not very many players actually ever reach an All-NBA team. Let's see how strong this result is actually."
   ]
  },
  {
   "cell_type": "code",
   "execution_count": 13,
   "id": "3b84cf54",
   "metadata": {},
   "outputs": [
    {
     "data": {
      "text/plain": [
       "458"
      ]
     },
     "execution_count": 13,
     "metadata": {},
     "output_type": "execute_result"
    }
   ],
   "source": [
    "sum(~y_test)"
   ]
  },
  {
   "cell_type": "code",
   "execution_count": 14,
   "id": "6c238d29",
   "metadata": {},
   "outputs": [
    {
     "data": {
      "text/plain": [
       "array([[451,   7],\n",
       "       [ 18,   7]], dtype=int64)"
      ]
     },
     "execution_count": 14,
     "metadata": {},
     "output_type": "execute_result"
    }
   ],
   "source": [
    "cnf_matrix = metrics.confusion_matrix(y_test, m.predict(X_test))\n",
    "cnf_matrix"
   ]
  },
  {
   "cell_type": "markdown",
   "id": "d8cc75c3",
   "metadata": {},
   "source": [
    "The confusion matrix illustrates the shortcomings of this model. Of the 14 players in the training data projected to be All-NBA players, only half actually reached that level. Moreover, of the 25 players who actually did become All-NBA-caliber in the training set, 72% were incorrectly projected to fail to do so.\n",
    "\n",
    "While it is obviously difficult to project a career outcome based off of merely one season of performances, these results can likely be improved upon with a different model."
   ]
  },
  {
   "cell_type": "markdown",
   "id": "016f07f7",
   "metadata": {},
   "source": [
    "## Second Model: Random Forest Regressor\n",
    "\n",
    "Let's try projecting the probability that players will reach an All-NBA team rather than simply classifying them.\n",
    "\n",
    "First, consider the baseline mean absolute error of a model that projects players to make All-NBA teams at an average rate.\n",
    "\n",
    "Information on how to construct a Random Forest Regressor Model was found in a Towards Data Science post by Will Koehrsen, which can be found here: https://towardsdatascience.com/random-forest-in-python-24d0893d51c0"
   ]
  },
  {
   "cell_type": "code",
   "execution_count": 36,
   "id": "902aac99",
   "metadata": {},
   "outputs": [
    {
     "name": "stdout",
     "output_type": "stream",
     "text": [
      "Average All-NBA probability:  0.052\n",
      "Average baseline error:  0.098\n"
     ]
    }
   ],
   "source": [
    "baseline = 1 - sum(~y_test)/y_test.shape[0]\n",
    "print('Average All-NBA probability: ', round(baseline, 3))\n",
    "baseline_error = abs(np.full(y_test.shape[0], baseline) - y_test)\n",
    "print('Average baseline error: ', round(np.mean(baseline_error), 3))"
   ]
  },
  {
   "cell_type": "markdown",
   "id": "80891ec6",
   "metadata": {},
   "source": [
    "We see that 5.2 percent of the players in the training dataset actually make an All-NBA team. Using this value as the projected probability to make an All-NBA team for all players would result in a mean absolute error of 0.098."
   ]
  },
  {
   "cell_type": "markdown",
   "id": "1a680717",
   "metadata": {},
   "source": [
    "Now let's train a simple random forest regressor model on the training data to see how it performs on the test set."
   ]
  },
  {
   "cell_type": "code",
   "execution_count": 16,
   "id": "57e15d62",
   "metadata": {},
   "outputs": [
    {
     "data": {
      "text/html": [
       "<style>#sk-container-id-1 {color: black;}#sk-container-id-1 pre{padding: 0;}#sk-container-id-1 div.sk-toggleable {background-color: white;}#sk-container-id-1 label.sk-toggleable__label {cursor: pointer;display: block;width: 100%;margin-bottom: 0;padding: 0.3em;box-sizing: border-box;text-align: center;}#sk-container-id-1 label.sk-toggleable__label-arrow:before {content: \"▸\";float: left;margin-right: 0.25em;color: #696969;}#sk-container-id-1 label.sk-toggleable__label-arrow:hover:before {color: black;}#sk-container-id-1 div.sk-estimator:hover label.sk-toggleable__label-arrow:before {color: black;}#sk-container-id-1 div.sk-toggleable__content {max-height: 0;max-width: 0;overflow: hidden;text-align: left;background-color: #f0f8ff;}#sk-container-id-1 div.sk-toggleable__content pre {margin: 0.2em;color: black;border-radius: 0.25em;background-color: #f0f8ff;}#sk-container-id-1 input.sk-toggleable__control:checked~div.sk-toggleable__content {max-height: 200px;max-width: 100%;overflow: auto;}#sk-container-id-1 input.sk-toggleable__control:checked~label.sk-toggleable__label-arrow:before {content: \"▾\";}#sk-container-id-1 div.sk-estimator input.sk-toggleable__control:checked~label.sk-toggleable__label {background-color: #d4ebff;}#sk-container-id-1 div.sk-label input.sk-toggleable__control:checked~label.sk-toggleable__label {background-color: #d4ebff;}#sk-container-id-1 input.sk-hidden--visually {border: 0;clip: rect(1px 1px 1px 1px);clip: rect(1px, 1px, 1px, 1px);height: 1px;margin: -1px;overflow: hidden;padding: 0;position: absolute;width: 1px;}#sk-container-id-1 div.sk-estimator {font-family: monospace;background-color: #f0f8ff;border: 1px dotted black;border-radius: 0.25em;box-sizing: border-box;margin-bottom: 0.5em;}#sk-container-id-1 div.sk-estimator:hover {background-color: #d4ebff;}#sk-container-id-1 div.sk-parallel-item::after {content: \"\";width: 100%;border-bottom: 1px solid gray;flex-grow: 1;}#sk-container-id-1 div.sk-label:hover label.sk-toggleable__label {background-color: #d4ebff;}#sk-container-id-1 div.sk-serial::before {content: \"\";position: absolute;border-left: 1px solid gray;box-sizing: border-box;top: 0;bottom: 0;left: 50%;z-index: 0;}#sk-container-id-1 div.sk-serial {display: flex;flex-direction: column;align-items: center;background-color: white;padding-right: 0.2em;padding-left: 0.2em;position: relative;}#sk-container-id-1 div.sk-item {position: relative;z-index: 1;}#sk-container-id-1 div.sk-parallel {display: flex;align-items: stretch;justify-content: center;background-color: white;position: relative;}#sk-container-id-1 div.sk-item::before, #sk-container-id-1 div.sk-parallel-item::before {content: \"\";position: absolute;border-left: 1px solid gray;box-sizing: border-box;top: 0;bottom: 0;left: 50%;z-index: -1;}#sk-container-id-1 div.sk-parallel-item {display: flex;flex-direction: column;z-index: 1;position: relative;background-color: white;}#sk-container-id-1 div.sk-parallel-item:first-child::after {align-self: flex-end;width: 50%;}#sk-container-id-1 div.sk-parallel-item:last-child::after {align-self: flex-start;width: 50%;}#sk-container-id-1 div.sk-parallel-item:only-child::after {width: 0;}#sk-container-id-1 div.sk-dashed-wrapped {border: 1px dashed gray;margin: 0 0.4em 0.5em 0.4em;box-sizing: border-box;padding-bottom: 0.4em;background-color: white;}#sk-container-id-1 div.sk-label label {font-family: monospace;font-weight: bold;display: inline-block;line-height: 1.2em;}#sk-container-id-1 div.sk-label-container {text-align: center;}#sk-container-id-1 div.sk-container {/* jupyter's `normalize.less` sets `[hidden] { display: none; }` but bootstrap.min.css set `[hidden] { display: none !important; }` so we also need the `!important` here to be able to override the default hidden behavior on the sphinx rendered scikit-learn.org. See: https://github.com/scikit-learn/scikit-learn/issues/21755 */display: inline-block !important;position: relative;}#sk-container-id-1 div.sk-text-repr-fallback {display: none;}</style><div id=\"sk-container-id-1\" class=\"sk-top-container\"><div class=\"sk-text-repr-fallback\"><pre>RandomForestRegressor(n_estimators=1000, random_state=1)</pre><b>In a Jupyter environment, please rerun this cell to show the HTML representation or trust the notebook. <br />On GitHub, the HTML representation is unable to render, please try loading this page with nbviewer.org.</b></div><div class=\"sk-container\" hidden><div class=\"sk-item\"><div class=\"sk-estimator sk-toggleable\"><input class=\"sk-toggleable__control sk-hidden--visually\" id=\"sk-estimator-id-1\" type=\"checkbox\" checked><label for=\"sk-estimator-id-1\" class=\"sk-toggleable__label sk-toggleable__label-arrow\">RandomForestRegressor</label><div class=\"sk-toggleable__content\"><pre>RandomForestRegressor(n_estimators=1000, random_state=1)</pre></div></div></div></div></div>"
      ],
      "text/plain": [
       "RandomForestRegressor(n_estimators=1000, random_state=1)"
      ]
     },
     "execution_count": 16,
     "metadata": {},
     "output_type": "execute_result"
    }
   ],
   "source": [
    "m2 = RandomForestRegressor(n_estimators = 1000, random_state = 1)\n",
    "m2.fit(X_train, y_train)"
   ]
  },
  {
   "cell_type": "code",
   "execution_count": 17,
   "id": "fbf60cc5",
   "metadata": {},
   "outputs": [
    {
     "name": "stdout",
     "output_type": "stream",
     "text": [
      "Average error: 0.079\n"
     ]
    }
   ],
   "source": [
    "predictions = m2.predict(X_test)\n",
    "errors = abs(predictions - y_test)\n",
    "print('Average error:', round(np.mean(errors), 3))"
   ]
  },
  {
   "cell_type": "markdown",
   "id": "43f58280",
   "metadata": {},
   "source": [
    "We see that this model yields an average error 0f 0.079. This is somewhat better than the baseline error of 0.098."
   ]
  },
  {
   "cell_type": "code",
   "execution_count": 18,
   "id": "1ef93ba8",
   "metadata": {},
   "outputs": [
    {
     "name": "stdout",
     "output_type": "stream",
     "text": [
      "The model predicts  44.3 % too  many  All-NBA players\n"
     ]
    }
   ],
   "source": [
    "calibration_error = round(100 * (np.mean(predictions) / (1 - sum(~rookies['all_nba'])/rookies.shape[0]) - 1), 1)\n",
    "descriptor = \"many\" if calibration_error >= 0 else \"few\"\n",
    "print(\"The model predicts \", abs(calibration_error), \"% too \", descriptor, \" All-NBA players\")"
   ]
  },
  {
   "cell_type": "markdown",
   "id": "1c48a066",
   "metadata": {},
   "source": [
    "Unfortunately, the model appears to be poorly calibrated. The projected number of All-NBA players is 44.3% too high."
   ]
  },
  {
   "cell_type": "markdown",
   "id": "c5e9380a",
   "metadata": {},
   "source": [
    "## Third Model: Improved Random Forest Regressor\n",
    "\n",
    "Let's attempt to improve this model by tuning the model's hyperparameters. We can do this using a random grid to ascertain what the ideal values for these hyperparameters are and constructing a model with these values.\n",
    "\n",
    "Information on how to tune these hyperparameters was found in a subsequent post by Will Koehrsen on Towards Data Science. The post can be found here: https://towardsdatascience.com/hyperparameter-tuning-the-random-forest-in-python-using-scikit-learn-28d2aa77dd74"
   ]
  },
  {
   "cell_type": "code",
   "execution_count": 19,
   "id": "ad7a62e7",
   "metadata": {},
   "outputs": [],
   "source": [
    "n_estimators = [200, 400, 600, 800, 1000, 1200, 1400, 1600, 1800, 2000]\n",
    "max_features = [1.0, 'sqrt']\n",
    "max_depth = [10, 20, 30, 40, 50, 60, 70, 80, 90, 100, None]\n",
    "min_samples_split = [2, 5, 10]\n",
    "min_samples_leaf = [1, 2, 4]\n",
    "bootstrap = [True, False]\n",
    "random_grid = {'n_estimators': n_estimators, 'max_features': max_features, 'max_depth': max_depth,\n",
    "               'min_samples_split': min_samples_split, 'min_samples_leaf': min_samples_leaf, 'bootstrap': bootstrap}"
   ]
  },
  {
   "cell_type": "code",
   "execution_count": 20,
   "id": "ce7890a3",
   "metadata": {},
   "outputs": [
    {
     "data": {
      "text/html": [
       "<style>#sk-container-id-2 {color: black;}#sk-container-id-2 pre{padding: 0;}#sk-container-id-2 div.sk-toggleable {background-color: white;}#sk-container-id-2 label.sk-toggleable__label {cursor: pointer;display: block;width: 100%;margin-bottom: 0;padding: 0.3em;box-sizing: border-box;text-align: center;}#sk-container-id-2 label.sk-toggleable__label-arrow:before {content: \"▸\";float: left;margin-right: 0.25em;color: #696969;}#sk-container-id-2 label.sk-toggleable__label-arrow:hover:before {color: black;}#sk-container-id-2 div.sk-estimator:hover label.sk-toggleable__label-arrow:before {color: black;}#sk-container-id-2 div.sk-toggleable__content {max-height: 0;max-width: 0;overflow: hidden;text-align: left;background-color: #f0f8ff;}#sk-container-id-2 div.sk-toggleable__content pre {margin: 0.2em;color: black;border-radius: 0.25em;background-color: #f0f8ff;}#sk-container-id-2 input.sk-toggleable__control:checked~div.sk-toggleable__content {max-height: 200px;max-width: 100%;overflow: auto;}#sk-container-id-2 input.sk-toggleable__control:checked~label.sk-toggleable__label-arrow:before {content: \"▾\";}#sk-container-id-2 div.sk-estimator input.sk-toggleable__control:checked~label.sk-toggleable__label {background-color: #d4ebff;}#sk-container-id-2 div.sk-label input.sk-toggleable__control:checked~label.sk-toggleable__label {background-color: #d4ebff;}#sk-container-id-2 input.sk-hidden--visually {border: 0;clip: rect(1px 1px 1px 1px);clip: rect(1px, 1px, 1px, 1px);height: 1px;margin: -1px;overflow: hidden;padding: 0;position: absolute;width: 1px;}#sk-container-id-2 div.sk-estimator {font-family: monospace;background-color: #f0f8ff;border: 1px dotted black;border-radius: 0.25em;box-sizing: border-box;margin-bottom: 0.5em;}#sk-container-id-2 div.sk-estimator:hover {background-color: #d4ebff;}#sk-container-id-2 div.sk-parallel-item::after {content: \"\";width: 100%;border-bottom: 1px solid gray;flex-grow: 1;}#sk-container-id-2 div.sk-label:hover label.sk-toggleable__label {background-color: #d4ebff;}#sk-container-id-2 div.sk-serial::before {content: \"\";position: absolute;border-left: 1px solid gray;box-sizing: border-box;top: 0;bottom: 0;left: 50%;z-index: 0;}#sk-container-id-2 div.sk-serial {display: flex;flex-direction: column;align-items: center;background-color: white;padding-right: 0.2em;padding-left: 0.2em;position: relative;}#sk-container-id-2 div.sk-item {position: relative;z-index: 1;}#sk-container-id-2 div.sk-parallel {display: flex;align-items: stretch;justify-content: center;background-color: white;position: relative;}#sk-container-id-2 div.sk-item::before, #sk-container-id-2 div.sk-parallel-item::before {content: \"\";position: absolute;border-left: 1px solid gray;box-sizing: border-box;top: 0;bottom: 0;left: 50%;z-index: -1;}#sk-container-id-2 div.sk-parallel-item {display: flex;flex-direction: column;z-index: 1;position: relative;background-color: white;}#sk-container-id-2 div.sk-parallel-item:first-child::after {align-self: flex-end;width: 50%;}#sk-container-id-2 div.sk-parallel-item:last-child::after {align-self: flex-start;width: 50%;}#sk-container-id-2 div.sk-parallel-item:only-child::after {width: 0;}#sk-container-id-2 div.sk-dashed-wrapped {border: 1px dashed gray;margin: 0 0.4em 0.5em 0.4em;box-sizing: border-box;padding-bottom: 0.4em;background-color: white;}#sk-container-id-2 div.sk-label label {font-family: monospace;font-weight: bold;display: inline-block;line-height: 1.2em;}#sk-container-id-2 div.sk-label-container {text-align: center;}#sk-container-id-2 div.sk-container {/* jupyter's `normalize.less` sets `[hidden] { display: none; }` but bootstrap.min.css set `[hidden] { display: none !important; }` so we also need the `!important` here to be able to override the default hidden behavior on the sphinx rendered scikit-learn.org. See: https://github.com/scikit-learn/scikit-learn/issues/21755 */display: inline-block !important;position: relative;}#sk-container-id-2 div.sk-text-repr-fallback {display: none;}</style><div id=\"sk-container-id-2\" class=\"sk-top-container\"><div class=\"sk-text-repr-fallback\"><pre>RandomizedSearchCV(cv=3, estimator=RandomForestRegressor(), n_iter=100,\n",
       "                   n_jobs=-1,\n",
       "                   param_distributions={&#x27;bootstrap&#x27;: [True, False],\n",
       "                                        &#x27;max_depth&#x27;: [10, 20, 30, 40, 50, 60,\n",
       "                                                      70, 80, 90, 100, None],\n",
       "                                        &#x27;max_features&#x27;: [1.0, &#x27;sqrt&#x27;],\n",
       "                                        &#x27;min_samples_leaf&#x27;: [1, 2, 4],\n",
       "                                        &#x27;min_samples_split&#x27;: [2, 5, 10],\n",
       "                                        &#x27;n_estimators&#x27;: [200, 400, 600, 800,\n",
       "                                                         1000, 1200, 1400, 1600,\n",
       "                                                         1800, 2000]},\n",
       "                   random_state=1)</pre><b>In a Jupyter environment, please rerun this cell to show the HTML representation or trust the notebook. <br />On GitHub, the HTML representation is unable to render, please try loading this page with nbviewer.org.</b></div><div class=\"sk-container\" hidden><div class=\"sk-item sk-dashed-wrapped\"><div class=\"sk-label-container\"><div class=\"sk-label sk-toggleable\"><input class=\"sk-toggleable__control sk-hidden--visually\" id=\"sk-estimator-id-2\" type=\"checkbox\" ><label for=\"sk-estimator-id-2\" class=\"sk-toggleable__label sk-toggleable__label-arrow\">RandomizedSearchCV</label><div class=\"sk-toggleable__content\"><pre>RandomizedSearchCV(cv=3, estimator=RandomForestRegressor(), n_iter=100,\n",
       "                   n_jobs=-1,\n",
       "                   param_distributions={&#x27;bootstrap&#x27;: [True, False],\n",
       "                                        &#x27;max_depth&#x27;: [10, 20, 30, 40, 50, 60,\n",
       "                                                      70, 80, 90, 100, None],\n",
       "                                        &#x27;max_features&#x27;: [1.0, &#x27;sqrt&#x27;],\n",
       "                                        &#x27;min_samples_leaf&#x27;: [1, 2, 4],\n",
       "                                        &#x27;min_samples_split&#x27;: [2, 5, 10],\n",
       "                                        &#x27;n_estimators&#x27;: [200, 400, 600, 800,\n",
       "                                                         1000, 1200, 1400, 1600,\n",
       "                                                         1800, 2000]},\n",
       "                   random_state=1)</pre></div></div></div><div class=\"sk-parallel\"><div class=\"sk-parallel-item\"><div class=\"sk-item\"><div class=\"sk-label-container\"><div class=\"sk-label sk-toggleable\"><input class=\"sk-toggleable__control sk-hidden--visually\" id=\"sk-estimator-id-3\" type=\"checkbox\" ><label for=\"sk-estimator-id-3\" class=\"sk-toggleable__label sk-toggleable__label-arrow\">estimator: RandomForestRegressor</label><div class=\"sk-toggleable__content\"><pre>RandomForestRegressor()</pre></div></div></div><div class=\"sk-serial\"><div class=\"sk-item\"><div class=\"sk-estimator sk-toggleable\"><input class=\"sk-toggleable__control sk-hidden--visually\" id=\"sk-estimator-id-4\" type=\"checkbox\" ><label for=\"sk-estimator-id-4\" class=\"sk-toggleable__label sk-toggleable__label-arrow\">RandomForestRegressor</label><div class=\"sk-toggleable__content\"><pre>RandomForestRegressor()</pre></div></div></div></div></div></div></div></div></div></div>"
      ],
      "text/plain": [
       "RandomizedSearchCV(cv=3, estimator=RandomForestRegressor(), n_iter=100,\n",
       "                   n_jobs=-1,\n",
       "                   param_distributions={'bootstrap': [True, False],\n",
       "                                        'max_depth': [10, 20, 30, 40, 50, 60,\n",
       "                                                      70, 80, 90, 100, None],\n",
       "                                        'max_features': [1.0, 'sqrt'],\n",
       "                                        'min_samples_leaf': [1, 2, 4],\n",
       "                                        'min_samples_split': [2, 5, 10],\n",
       "                                        'n_estimators': [200, 400, 600, 800,\n",
       "                                                         1000, 1200, 1400, 1600,\n",
       "                                                         1800, 2000]},\n",
       "                   random_state=1)"
      ]
     },
     "execution_count": 20,
     "metadata": {},
     "output_type": "execute_result"
    }
   ],
   "source": [
    "m3 = RandomForestRegressor()\n",
    "m3_rs = RandomizedSearchCV(estimator = m3, param_distributions = random_grid, n_iter = 100, cv = 3, random_state = 1, n_jobs = -1)\n",
    "m3_rs.fit(X_train, y_train)"
   ]
  },
  {
   "cell_type": "code",
   "execution_count": 21,
   "id": "7f2649b5",
   "metadata": {},
   "outputs": [
    {
     "data": {
      "text/plain": [
       "{'n_estimators': 600,\n",
       " 'min_samples_split': 2,\n",
       " 'min_samples_leaf': 4,\n",
       " 'max_features': 'sqrt',\n",
       " 'max_depth': 70,\n",
       " 'bootstrap': True}"
      ]
     },
     "execution_count": 21,
     "metadata": {},
     "output_type": "execute_result"
    }
   ],
   "source": [
    "m3_rs.best_params_"
   ]
  },
  {
   "cell_type": "markdown",
   "id": "5b6c66b9",
   "metadata": {},
   "source": [
    "After exploring a variety of options, the process produces the set of best parameters for the model. Let's see how a new model with these values fares."
   ]
  },
  {
   "cell_type": "code",
   "execution_count": 22,
   "id": "3a75cee9",
   "metadata": {},
   "outputs": [
    {
     "name": "stdout",
     "output_type": "stream",
     "text": [
      "Average error: 0.077\n"
     ]
    }
   ],
   "source": [
    "predictions = m3_rs.predict(X_test)\n",
    "errors = abs(predictions - y_test)\n",
    "print('Average error:', round(np.mean(errors), 3))"
   ]
  },
  {
   "cell_type": "markdown",
   "id": "c66eed62",
   "metadata": {},
   "source": [
    "The average error is 0.077, which is only marginally better than the previous model's performance."
   ]
  },
  {
   "cell_type": "code",
   "execution_count": 23,
   "id": "d68c2a1d",
   "metadata": {},
   "outputs": [
    {
     "name": "stdout",
     "output_type": "stream",
     "text": [
      "The model predicts  30.6 % too  many  All-NBA players\n"
     ]
    }
   ],
   "source": [
    "calibration_error = round(100 * (np.mean(predictions) / (1 - sum(~rookies['all_nba'])/rookies.shape[0]) - 1), 1)\n",
    "descriptor = \"many\" if calibration_error >= 0 else \"few\"\n",
    "print(\"The model predicts \", abs(calibration_error), \"% too \", descriptor, \" All-NBA players\")"
   ]
  },
  {
   "cell_type": "markdown",
   "id": "f8430193",
   "metadata": {},
   "source": [
    "A larger improvement is evident regarding the calibration. The overestimation of the number of All-NBA players drops from 44.3 percent to 30.6 percent."
   ]
  },
  {
   "cell_type": "markdown",
   "id": "a3d52909",
   "metadata": {},
   "source": [
    "## Fourth Model: Further Improved Random Forest Regressor\n",
    "\n",
    "Let's try to further improve this model by performing the same process again but with more refined options for the hyperparameters."
   ]
  },
  {
   "cell_type": "code",
   "execution_count": 28,
   "id": "e90e5f53",
   "metadata": {},
   "outputs": [],
   "source": [
    "param_grid = {'bootstrap': [True], 'max_depth': [60, 70, 80], 'max_features': ['sqrt'],\n",
    "              'min_samples_leaf': [3, 4, 5], 'min_samples_split': [2, 4, 6], 'n_estimators': [500, 600, 700]\n",
    "}\n",
    "# Create a based model\n",
    "m4 = RandomForestRegressor()\n",
    "# Instantiate the grid search model\n",
    "m4_gs = GridSearchCV(estimator = m4, param_grid = param_grid, cv = 3, n_jobs = -1)"
   ]
  },
  {
   "cell_type": "code",
   "execution_count": 29,
   "id": "bf7b706b",
   "metadata": {},
   "outputs": [
    {
     "data": {
      "text/plain": [
       "{'bootstrap': True,\n",
       " 'max_depth': 70,\n",
       " 'max_features': 'sqrt',\n",
       " 'min_samples_leaf': 5,\n",
       " 'min_samples_split': 2,\n",
       " 'n_estimators': 500}"
      ]
     },
     "execution_count": 29,
     "metadata": {},
     "output_type": "execute_result"
    }
   ],
   "source": [
    "m4_gs.fit(X_train, y_train)\n",
    "m4_gs.best_params_"
   ]
  },
  {
   "cell_type": "code",
   "execution_count": 30,
   "id": "e56b1fd5",
   "metadata": {},
   "outputs": [
    {
     "name": "stdout",
     "output_type": "stream",
     "text": [
      "Average error: 0.077\n"
     ]
    }
   ],
   "source": [
    "m4_best = m4_gs.best_estimator_\n",
    "predictions = m4_best.predict(X_test)\n",
    "errors = abs(predictions - y_test)\n",
    "print('Average error:', round(np.mean(errors), 3))"
   ]
  },
  {
   "cell_type": "markdown",
   "id": "d2ff55f0",
   "metadata": {},
   "source": [
    "We see that with the new slate of hyperparameters, the average error remains the same."
   ]
  },
  {
   "cell_type": "code",
   "execution_count": 31,
   "id": "522aeef3",
   "metadata": {},
   "outputs": [
    {
     "name": "stdout",
     "output_type": "stream",
     "text": [
      "The model predicts  29.7 % too  many  All-NBA players\n"
     ]
    }
   ],
   "source": [
    "calibration_error = round(100 * (np.mean(predictions) / (1 - sum(~rookies['all_nba'])/rookies.shape[0]) - 1), 1)\n",
    "descriptor = \"many\" if calibration_error >= 0 else \"few\"\n",
    "print(\"The model predicts \", abs(calibration_error), \"% too \", descriptor, \" All-NBA players\")"
   ]
  },
  {
   "cell_type": "markdown",
   "id": "7bfa9f1e",
   "metadata": {},
   "source": [
    "The calibration error also remains quite similar. This suggests that the performance of this model is about as strong as can be attained given the data on hand and modeling method."
   ]
  }
 ],
 "metadata": {
  "kernelspec": {
   "display_name": "Python 3 (ipykernel)",
   "language": "python",
   "name": "python3"
  },
  "language_info": {
   "codemirror_mode": {
    "name": "ipython",
    "version": 3
   },
   "file_extension": ".py",
   "mimetype": "text/x-python",
   "name": "python",
   "nbconvert_exporter": "python",
   "pygments_lexer": "ipython3",
   "version": "3.11.4"
  }
 },
 "nbformat": 4,
 "nbformat_minor": 5
}
